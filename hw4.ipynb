{
  "nbformat": 4,
  "nbformat_minor": 0,
  "metadata": {
    "colab": {
      "name": "hw4.ipynb",
      "provenance": [],
      "collapsed_sections": []
    },
    "kernelspec": {
      "name": "python3",
      "display_name": "Python 3"
    },
    "language_info": {
      "name": "python"
    },
    "accelerator": "GPU"
  },
  "cells": [
    {
      "cell_type": "markdown",
      "source": [
        "## Практическое задание\n",
        "\n",
        "Вариант 1. (простой)\n",
        "\n",
        "- обучить сверточную нейронную сеть в стиле AlexNet (с падением размера ядра свертки и последовательностью блоков свертка-пулинг  (conv-pool)-(conv-pool)-...) на датасете fashion-mnist или cifar10\n",
        "- оценить рост точности при увеличении ширины сети (больше ядер)\n",
        "- оценить рост точности при увеличении глубины сети (больше слоев)\n",
        "- (опциционально)сравнить с точностью полносвязной сети для этой выборки\n",
        "    </li>\n",
        "\n",
        "Вариант 2. (сложный)\n",
        "- реализовать нейронную сеть или стек из сверток (Concatenate) на сifar10.\n",
        "- оценить рост точности при увеличении ширины сети (больше ядер), больше нитей.\n",
        "- оценить рост точности при увеличении глубины сети (больше слоев)\n",
        "    </li>\n",
        "</ol>"
      ],
      "metadata": {
        "id": "IZdM9AXd6nAu"
      }
    },
    {
      "cell_type": "code",
      "execution_count": 1,
      "metadata": {
        "id": "Pcu0-RBz6ccF"
      },
      "outputs": [],
      "source": [
        "from __future__ import print_function\n",
        "#import tensorflow.keras as keras # расскоментируйте эту строку, чтобы начать обучение\n",
        "from tensorflow.keras.datasets import cifar10\n",
        "from tensorflow.keras.preprocessing.image import ImageDataGenerator\n",
        "from tensorflow.keras.models import Sequential, load_model\n",
        "from tensorflow.keras.layers import Dense, Dropout, Activation, Flatten\n",
        "from tensorflow.keras.layers import Conv2D, MaxPooling2D\n",
        "from tensorflow.keras.utils import to_categorical\n",
        "from tensorflow.keras.optimizers import RMSprop\n",
        "from tensorflow.keras.callbacks import ModelCheckpoint, EarlyStopping\n",
        "import numpy as np\n",
        "import pandas as pd\n",
        "import matplotlib.pyplot as plt\n",
        "import os"
      ]
    },
    {
      "cell_type": "code",
      "source": [
        "classes=['самолет', 'автомобиль', 'птица', 'кот', 'олень', 'собака', 'лягушка', 'лошадь', 'корабль', 'грузовик']"
      ],
      "metadata": {
        "id": "5zd9u5IWGHj6"
      },
      "execution_count": 2,
      "outputs": []
    },
    {
      "cell_type": "code",
      "source": [
        "# установка параметров нейросети\n",
        "num_classes = 10\n",
        "num_predictions = 20\n",
        "\n",
        "# разделение тренировочной и тестовой выборки\n",
        "(x_train, y_train), (x_test, y_test) = cifar10.load_data()\n",
        "print('x_train shape:', x_train.shape)\n",
        "print(x_train.shape[0], 'тренировочные примеры')\n",
        "print(x_test.shape[0], 'тестовые примеры')\n",
        "\n",
        "# преобразование матрицы чисел 0-9 в бинарную матрицу чисел 0-1\n",
        "y_train = to_categorical(y_train, num_classes)\n",
        "y_test = to_categorical(y_test, num_classes)\n",
        "\n",
        "\n",
        "x_train = x_train.astype('float32')\n",
        "x_test = x_test.astype('float32')\n",
        "x_train /= 255\n",
        "x_test /= 255"
      ],
      "metadata": {
        "colab": {
          "base_uri": "https://localhost:8080/"
        },
        "id": "0vkUcDaxGJpG",
        "outputId": "0312e4fb-77c4-4cdf-a173-42cf72d25776"
      },
      "execution_count": 3,
      "outputs": [
        {
          "output_type": "stream",
          "name": "stdout",
          "text": [
            "Downloading data from https://www.cs.toronto.edu/~kriz/cifar-10-python.tar.gz\n",
            "170500096/170498071 [==============================] - 3s 0us/step\n",
            "170508288/170498071 [==============================] - 3s 0us/step\n",
            "x_train shape: (50000, 32, 32, 3)\n",
            "50000 тренировочные примеры\n",
            "10000 тестовые примеры\n"
          ]
        }
      ]
    },
    {
      "cell_type": "code",
      "source": [
        "N = 1131\n",
        "plt.imshow(x_test[N][:,:,:])\n",
        "plt.title('это : '+classes[np.argmax(y_test[N,:])])\n",
        "plt.show()"
      ],
      "metadata": {
        "colab": {
          "base_uri": "https://localhost:8080/",
          "height": 281
        },
        "id": "y7_2MYbyGMnu",
        "outputId": "b6466532-75bb-4160-94a2-9c222355270a"
      },
      "execution_count": 4,
      "outputs": [
        {
          "output_type": "display_data",
          "data": {
            "text/plain": [
              "<Figure size 432x288 with 1 Axes>"
            ],
            "image/png": "[encoded data removed]"
          },
          "metadata": {
            "needs_background": "light"
          }
        }
      ]
    },
    {
      "cell_type": "code",
      "source": [
        "def build_model(n_edges, n_additional_conv_layers):\n",
        "  model = Sequential()\n",
        "  # слои нейросети отвественные за свертку и max-pooling\n",
        "  model.add(Conv2D(n_edges, (3, 3), padding='same',\n",
        "                  input_shape=x_train.shape[1:]))\n",
        "  model.add(Activation('relu'))\n",
        "  model.add(Conv2D(n_edges, (3, 3)))\n",
        "  model.add(Activation('relu'))\n",
        "  model.add(MaxPooling2D(pool_size=(2, 2)))\n",
        "  model.add(Dropout( 0.25))\n",
        "  for i in range(2, n_additional_conv_layers+2):\n",
        "    model.add(Conv2D(n_edges * i, (3, 3), padding='same'))\n",
        "    model.add(Activation('relu'))\n",
        "    model.add(Conv2D(n_edges * i, (3, 3)))\n",
        "    model.add(Activation('relu'))\n",
        "  model.add(MaxPooling2D(pool_size=(2, 2)))\n",
        "  model.add(Dropout(0.25))\n",
        "  # полносвязные слои нейронной сети\n",
        "  model.add(Flatten())\n",
        "  model.add(Dense(512))\n",
        "  model.add(Activation('relu'))\n",
        "  model.add(Dropout(0.5))\n",
        "  model.add(Dense(num_classes))\n",
        "  model.add(Activation('softmax'))\n",
        "  # инициализация RMSprop optimizer\n",
        "  opt = RMSprop(learning_rate=0.0001, decay=1e-6)\n",
        "\n",
        "  # компиляция модели\n",
        "  model.compile(loss='categorical_crossentropy',\n",
        "                optimizer=opt,\n",
        "                metrics=['accuracy'])\n",
        "  return model\n",
        "\n",
        "def fit_model(model, x_train, y_train, x_test, y_test, callback_filepath, data_augmentation=False):\n",
        "  checkpoint = ModelCheckpoint(filepath=callback_filepath, \n",
        "                             monitor='val_loss',\n",
        "                             verbose=0, \n",
        "                             save_best_only=True,\n",
        "                             mode='min')\n",
        "  EarlyStop = EarlyStopping(monitor='val_loss', patience=4)\n",
        "  callbacks = [checkpoint, EarlyStop]\n",
        "  \n",
        "  \n",
        "  if not data_augmentation:\n",
        "    model.fit(x_train, y_train,\n",
        "              batch_size=batch_size,\n",
        "              epochs=epochs,\n",
        "              validation_data=(x_test, y_test),\n",
        "              shuffle=True,\n",
        "              verbose=0,\n",
        "              callbacks=callbacks)\n",
        "  else:\n",
        "    datagen = ImageDataGenerator(\n",
        "            featurewise_center=False,\n",
        "            samplewise_center=False,\n",
        "            featurewise_std_normalization=False,\n",
        "            samplewise_std_normalization=False,\n",
        "            zca_whitening=False, \n",
        "            zca_epsilon=1e-06, \n",
        "            rotation_range=5, \n",
        "            width_shift_range=0.1,\n",
        "            height_shift_range=0.1,\n",
        "            shear_range=0., \n",
        "            zoom_range=0., \n",
        "            channel_shift_range=0.,\n",
        "            fill_mode='nearest',\n",
        "            cval=0.,\n",
        "            horizontal_flip=True,\n",
        "            vertical_flip=False,\n",
        "            rescale=None,\n",
        "            preprocessing_function=None,\n",
        "            data_format=None,\n",
        "            validation_split=0.0)\n",
        "\n",
        "    model.fit(datagen.flow(x_train, y_train, batch_size=batch_size),\n",
        "              epochs=epochs,\n",
        "              validation_data=(x_test, y_test),\n",
        "              workers=-1,\n",
        "              verbose=0,\n",
        "              callbacks=callbacks)"
      ],
      "metadata": {
        "id": "yBv7H2MkJbrW"
      },
      "execution_count": 44,
      "outputs": []
    },
    {
      "cell_type": "code",
      "source": [
        "data_augmentation = False\n",
        "epochs = 80\n",
        "batch_size = 128\n",
        "n_tests = 1\n",
        "results_n_edges = []\n",
        "\n",
        "save_dir = os.path.join(os.getcwd(), 'saved_models')\n",
        "model_name = 'keras_cifar10_trained_model.h5'\n",
        "if not os.path.isdir(save_dir):\n",
        "    os.makedirs(save_dir)\n",
        "model_path = os.path.join(save_dir, model_name)\n",
        "\n",
        "for test in range(n_tests):\n",
        "  for n_edges in [32, 48, 64, 96]:\n",
        "    model = build_model(n_edges=n_edges, n_additional_conv_layers=1)\n",
        "    fit_model(model, x_train, y_train, x_test, y_test, model_path, data_augmentation=False)\n",
        "    best_model = load_model(model_path)\n",
        "    scores = best_model.evaluate(x_test, y_test, verbose=1)\n",
        "    results_n_edges.append(\n",
        "        {\n",
        "            'test_number': test,\n",
        "            'n_edges': n_edges,\n",
        "            'Test loss:': scores[0], \n",
        "            'Test accuracy:': scores[1]\n",
        "        })\n",
        "    print(f'test {test}: n_edges: {n_edges}, test_acc: {scores[1]}')"
      ],
      "metadata": {
        "colab": {
          "base_uri": "https://localhost:8080/"
        },
        "id": "QaUmwLEWGO_u",
        "outputId": "58d0e07d-2ab4-4ee1-f1c5-4f5ded6c8877"
      },
      "execution_count": 6,
      "outputs": [
        {
          "output_type": "stream",
          "name": "stdout",
          "text": [
            "313/313 [==============================] - 2s 6ms/step - loss: 0.6598 - accuracy: 0.7714\n",
            "test 0: n_edges: 32, test_acc: 0.771399974822998\n",
            "313/313 [==============================] - 2s 6ms/step - loss: 0.6226 - accuracy: 0.7885\n",
            "test 0: n_edges: 48, test_acc: 0.7885000109672546\n",
            "313/313 [==============================] - 3s 8ms/step - loss: 0.5983 - accuracy: 0.8000\n",
            "test 0: n_edges: 64, test_acc: 0.800000011920929\n",
            "313/313 [==============================] - 3s 9ms/step - loss: 0.5797 - accuracy: 0.8051\n",
            "test 0: n_edges: 96, test_acc: 0.8051000237464905\n"
          ]
        }
      ]
    },
    {
      "cell_type": "code",
      "source": [
        "pd.DataFrame(results_n_edges).groupby('n_edges').agg({'Test accuracy:' : ['mean', 'max', 'std']})"
      ],
      "metadata": {
        "colab": {
          "base_uri": "https://localhost:8080/",
          "height": 238
        },
        "id": "xtbgOnzzM2C8",
        "outputId": "2755b917-14a7-4387-bc13-6b61fcb0367e"
      },
      "execution_count": 7,
      "outputs": [
        {
          "output_type": "execute_result",
          "data": {
            "text/plain": [
              "        Test accuracy:            \n",
              "                  mean     max std\n",
              "n_edges                           \n",
              "32              0.7714  0.7714 NaN\n",
              "48              0.7885  0.7885 NaN\n",
              "64              0.8000  0.8000 NaN\n",
              "96              0.8051  0.8051 NaN"
            ],
            "text/html": [
              "\n",
              "  <div id=\"df-25d2dcc2-d12e-4c01-8bee-cb8ea047cafb\">\n",
              "    <div class=\"colab-df-container\">\n",
              "      <div>\n",
              "<style scoped>\n",
              "    .dataframe tbody tr th:only-of-type {\n",
              "        vertical-align: middle;\n",
              "    }\n",
              "\n",
              "    .dataframe tbody tr th {\n",
              "        vertical-align: top;\n",
              "    }\n",
              "\n",
              "    .dataframe thead tr th {\n",
              "        text-align: left;\n",
              "    }\n",
              "\n",
              "    .dataframe thead tr:last-of-type th {\n",
              "        text-align: right;\n",
              "    }\n",
              "</style>\n",
              "<table border=\"1\" class=\"dataframe\">\n",
              "  <thead>\n",
              "    <tr>\n",
              "      <th></th>\n",
              "      <th colspan=\"3\" halign=\"left\">Test accuracy:</th>\n",
              "    </tr>\n",
              "    <tr>\n",
              "      <th></th>\n",
              "      <th>mean</th>\n",
              "      <th>max</th>\n",
              "      <th>std</th>\n",
              "    </tr>\n",
              "    <tr>\n",
              "      <th>n_edges</th>\n",
              "      <th></th>\n",
              "      <th></th>\n",
              "      <th></th>\n",
              "    </tr>\n",
              "  </thead>\n",
              "  <tbody>\n",
              "    <tr>\n",
              "      <th>32</th>\n",
              "      <td>0.7714</td>\n",
              "      <td>0.7714</td>\n",
              "      <td>NaN</td>\n",
              "    </tr>\n",
              "    <tr>\n",
              "      <th>48</th>\n",
              "      <td>0.7885</td>\n",
              "      <td>0.7885</td>\n",
              "      <td>NaN</td>\n",
              "    </tr>\n",
              "    <tr>\n",
              "      <th>64</th>\n",
              "      <td>0.8000</td>\n",
              "      <td>0.8000</td>\n",
              "      <td>NaN</td>\n",
              "    </tr>\n",
              "    <tr>\n",
              "      <th>96</th>\n",
              "      <td>0.8051</td>\n",
              "      <td>0.8051</td>\n",
              "      <td>NaN</td>\n",
              "    </tr>\n",
              "  </tbody>\n",
              "</table>\n",
              "</div>\n",
              "      <button class=\"colab-df-convert\" onclick=\"convertToInteractive('df-25d2dcc2-d12e-4c01-8bee-cb8ea047cafb')\"\n",
              "              title=\"Convert this dataframe to an interactive table.\"\n",
              "              style=\"display:none;\">\n",
              "        \n",
              "  <svg xmlns=\"http://www.w3.org/2000/svg\" height=\"24px\"viewBox=\"0 0 24 24\"\n",
              "       width=\"24px\">\n",
              "    <path d=\"M0 0h24v24H0V0z\" fill=\"none\"/>\n",
              "    <path d=\"M18.56 5.44l.94 2.06.94-2.06 2.06-.94-2.06-.94-.94-2.06-.94 2.06-2.06.94zm-11 1L8.5 8.5l.94-2.06 2.06-.94-2.06-.94L8.5 2.5l-.94 2.06-2.06.94zm10 10l.94 2.06.94-2.06 2.06-.94-2.06-.94-.94-2.06-.94 2.06-2.06.94z\"/><path d=\"M17.41 7.96l-1.37-1.37c-.4-.4-.92-.59-1.43-.59-.52 0-1.04.2-1.43.59L10.3 9.45l-7.72 7.72c-.78.78-.78 2.05 0 2.83L4 21.41c.39.39.9.59 1.41.59.51 0 1.02-.2 1.41-.59l7.78-7.78 2.81-2.81c.8-.78.8-2.07 0-2.86zM5.41 20L4 18.59l7.72-7.72 1.47 1.35L5.41 20z\"/>\n",
              "  </svg>\n",
              "      </button>\n",
              "      \n",
              "  <style>\n",
              "    .colab-df-container {\n",
              "      display:flex;\n",
              "      flex-wrap:wrap;\n",
              "      gap: 12px;\n",
              "    }\n",
              "\n",
              "    .colab-df-convert {\n",
              "      background-color: #E8F0FE;\n",
              "      border: none;\n",
              "      border-radius: 50%;\n",
              "      cursor: pointer;\n",
              "      display: none;\n",
              "      fill: #1967D2;\n",
              "      height: 32px;\n",
              "      padding: 0 0 0 0;\n",
              "      width: 32px;\n",
              "    }\n",
              "\n",
              "    .colab-df-convert:hover {\n",
              "      background-color: #E2EBFA;\n",
              "      box-shadow: 0px 1px 2px rgba(60, 64, 67, 0.3), 0px 1px 3px 1px rgba(60, 64, 67, 0.15);\n",
              "      fill: #174EA6;\n",
              "    }\n",
              "\n",
              "    [theme=dark] .colab-df-convert {\n",
              "      background-color: #3B4455;\n",
              "      fill: #D2E3FC;\n",
              "    }\n",
              "\n",
              "    [theme=dark] .colab-df-convert:hover {\n",
              "      background-color: #434B5C;\n",
              "      box-shadow: 0px 1px 3px 1px rgba(0, 0, 0, 0.15);\n",
              "      filter: drop-shadow(0px 1px 2px rgba(0, 0, 0, 0.3));\n",
              "      fill: #FFFFFF;\n",
              "    }\n",
              "  </style>\n",
              "\n",
              "      <script>\n",
              "        const buttonEl =\n",
              "          document.querySelector('#df-25d2dcc2-d12e-4c01-8bee-cb8ea047cafb button.colab-df-convert');\n",
              "        buttonEl.style.display =\n",
              "          google.colab.kernel.accessAllowed ? 'block' : 'none';\n",
              "\n",
              "        async function convertToInteractive(key) {\n",
              "          const element = document.querySelector('#df-25d2dcc2-d12e-4c01-8bee-cb8ea047cafb');\n",
              "          const dataTable =\n",
              "            await google.colab.kernel.invokeFunction('convertToInteractive',\n",
              "                                                     [key], {});\n",
              "          if (!dataTable) return;\n",
              "\n",
              "          const docLinkHtml = 'Like what you see? Visit the ' +\n",
              "            '<a target=\"_blank\" href=https://colab.research.google.com/notebooks/data_table.ipynb>data table notebook</a>'\n",
              "            + ' to learn more about interactive tables.';\n",
              "          element.innerHTML = '';\n",
              "          dataTable['output_type'] = 'display_data';\n",
              "          await google.colab.output.renderOutput(dataTable, element);\n",
              "          const docLink = document.createElement('div');\n",
              "          docLink.innerHTML = docLinkHtml;\n",
              "          element.appendChild(docLink);\n",
              "        }\n",
              "      </script>\n",
              "    </div>\n",
              "  </div>\n",
              "  "
            ]
          },
          "metadata": {},
          "execution_count": 7
        }
      ]
    },
    {
      "cell_type": "code",
      "source": [
        "results_n_layers = []\n",
        "for test in range(n_tests):\n",
        "  for n_layers in [2, 3, 4]:\n",
        "    model = build_model(n_edges=64, n_additional_conv_layers=n_layers)\n",
        "    fit_model(model, x_train, y_train, x_test, y_test, model_path, data_augmentation=False)\n",
        "    best_model = load_model(model_path)\n",
        "    scores = best_model.evaluate(x_test, y_test, verbose=1)\n",
        "    results_n_layers.append(\n",
        "        {\n",
        "            'test_number': test,\n",
        "            'n_edges': n_edges,\n",
        "            'Test loss:': scores[0], \n",
        "            'Test accuracy:': scores[1]\n",
        "        })\n",
        "    print(f'test {test}: n_edges: {n_layers}, test_acc: {scores[1]}')"
      ],
      "metadata": {
        "colab": {
          "base_uri": "https://localhost:8080/"
        },
        "id": "0pTRaHtm8oSK",
        "outputId": "7129340b-04db-43ce-c1e0-6c9c9bcabf17"
      },
      "execution_count": 45,
      "outputs": [
        {
          "output_type": "stream",
          "name": "stdout",
          "text": [
            "313/313 [==============================] - 4s 11ms/step - loss: 0.5646 - accuracy: 0.8110\n",
            "test 0: n_edges: 2, test_acc: 0.8109999895095825\n",
            "313/313 [==============================] - 5s 13ms/step - loss: 0.6406 - accuracy: 0.7783\n",
            "test 0: n_edges: 3, test_acc: 0.7782999873161316\n",
            "313/313 [==============================] - 5s 16ms/step - loss: 0.5956 - accuracy: 0.8048\n",
            "test 0: n_edges: 4, test_acc: 0.8047999739646912\n"
          ]
        }
      ]
    },
    {
      "cell_type": "markdown",
      "source": [
        " Увеличение количества ядер в большей степени улучшает точность модели, в отличие от увеличения её глубины"
      ],
      "metadata": {
        "id": "l-Klul7A9qM2"
      }
    }
  ]
}